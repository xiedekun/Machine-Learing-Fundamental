{
 "cells": [
  {
   "cell_type": "code",
   "execution_count": 1,
   "id": "organizational-cleaner",
   "metadata": {},
   "outputs": [],
   "source": [
    "import numpy as np\n",
    "import matplotlib.pyplot as plt"
   ]
  },
  {
   "cell_type": "markdown",
   "id": "copyrighted-exclusive",
   "metadata": {},
   "source": [
    "### 最值归一化"
   ]
  },
  {
   "cell_type": "code",
   "execution_count": null,
   "id": "continuing-government",
   "metadata": {},
   "outputs": [],
   "source": []
  },
  {
   "cell_type": "code",
   "execution_count": 27,
   "id": "ambient-satellite",
   "metadata": {},
   "outputs": [],
   "source": [
    "x = np.random.randint(0,100, size = 100)"
   ]
  },
  {
   "cell_type": "code",
   "execution_count": 4,
   "id": "bizarre-negative",
   "metadata": {},
   "outputs": [
    {
     "data": {
      "text/plain": [
       "array([15, 40, 96, 70, 26, 57, 72, 65, 18, 96, 27, 17, 69, 41, 81, 65, 44,\n",
       "       72, 36,  8, 52, 42, 72, 58, 49, 75,  8, 35, 65, 72, 29, 25, 43, 74,\n",
       "       94, 65, 61, 63, 39, 17, 94, 85,  4,  5, 42,  6, 91, 72, 87, 89, 34,\n",
       "       39, 23, 22, 46, 77, 59, 33, 36, 53,  9, 15, 75, 18, 21, 10, 71, 38,\n",
       "       73, 93, 91, 93, 96, 72, 81, 74, 72, 85, 30, 44, 95, 18, 47, 99, 37,\n",
       "       70,  0, 36, 70, 71, 33, 38, 70, 35, 16, 94, 21, 12, 36, 73])"
      ]
     },
     "execution_count": 4,
     "metadata": {},
     "output_type": "execute_result"
    }
   ],
   "source": [
    "x"
   ]
  },
  {
   "cell_type": "code",
   "execution_count": 6,
   "id": "revised-bunch",
   "metadata": {},
   "outputs": [
    {
     "data": {
      "text/plain": [
       "array([0.15151515, 0.4040404 , 0.96969697, 0.70707071, 0.26262626,\n",
       "       0.57575758, 0.72727273, 0.65656566, 0.18181818, 0.96969697,\n",
       "       0.27272727, 0.17171717, 0.6969697 , 0.41414141, 0.81818182,\n",
       "       0.65656566, 0.44444444, 0.72727273, 0.36363636, 0.08080808,\n",
       "       0.52525253, 0.42424242, 0.72727273, 0.58585859, 0.49494949,\n",
       "       0.75757576, 0.08080808, 0.35353535, 0.65656566, 0.72727273,\n",
       "       0.29292929, 0.25252525, 0.43434343, 0.74747475, 0.94949495,\n",
       "       0.65656566, 0.61616162, 0.63636364, 0.39393939, 0.17171717,\n",
       "       0.94949495, 0.85858586, 0.04040404, 0.05050505, 0.42424242,\n",
       "       0.06060606, 0.91919192, 0.72727273, 0.87878788, 0.8989899 ,\n",
       "       0.34343434, 0.39393939, 0.23232323, 0.22222222, 0.46464646,\n",
       "       0.77777778, 0.5959596 , 0.33333333, 0.36363636, 0.53535354,\n",
       "       0.09090909, 0.15151515, 0.75757576, 0.18181818, 0.21212121,\n",
       "       0.1010101 , 0.71717172, 0.38383838, 0.73737374, 0.93939394,\n",
       "       0.91919192, 0.93939394, 0.96969697, 0.72727273, 0.81818182,\n",
       "       0.74747475, 0.72727273, 0.85858586, 0.3030303 , 0.44444444,\n",
       "       0.95959596, 0.18181818, 0.47474747, 1.        , 0.37373737,\n",
       "       0.70707071, 0.        , 0.36363636, 0.70707071, 0.71717172,\n",
       "       0.33333333, 0.38383838, 0.70707071, 0.35353535, 0.16161616,\n",
       "       0.94949495, 0.21212121, 0.12121212, 0.36363636, 0.73737374])"
      ]
     },
     "execution_count": 6,
     "metadata": {},
     "output_type": "execute_result"
    }
   ],
   "source": [
    "(x - np.min(x))/(np.max(x)-np.min(x)) #最值归一化"
   ]
  },
  {
   "cell_type": "code",
   "execution_count": 7,
   "id": "miniature-peeing",
   "metadata": {},
   "outputs": [],
   "source": [
    "x = np.random.randint(0,100, size = (50,2))"
   ]
  },
  {
   "cell_type": "code",
   "execution_count": 14,
   "id": "published-lecture",
   "metadata": {},
   "outputs": [
    {
     "data": {
      "text/plain": [
       "array([[12., 97.],\n",
       "       [88., 36.],\n",
       "       [92., 26.],\n",
       "       [ 4., 50.],\n",
       "       [85., 28.],\n",
       "       [14., 89.],\n",
       "       [49., 74.],\n",
       "       [32., 59.],\n",
       "       [31., 52.],\n",
       "       [63.,  0.]])"
      ]
     },
     "execution_count": 14,
     "metadata": {},
     "output_type": "execute_result"
    }
   ],
   "source": [
    "x[:10,:]"
   ]
  },
  {
   "cell_type": "code",
   "execution_count": 10,
   "id": "cheap-purple",
   "metadata": {},
   "outputs": [],
   "source": [
    "x = np.array(x,dtype = float)"
   ]
  },
  {
   "cell_type": "code",
   "execution_count": 15,
   "id": "prescription-selection",
   "metadata": {},
   "outputs": [
    {
     "data": {
      "text/plain": [
       "array([[12., 97.],\n",
       "       [88., 36.],\n",
       "       [92., 26.],\n",
       "       [ 4., 50.],\n",
       "       [85., 28.],\n",
       "       [14., 89.],\n",
       "       [49., 74.],\n",
       "       [32., 59.],\n",
       "       [31., 52.],\n",
       "       [63.,  0.]])"
      ]
     },
     "execution_count": 15,
     "metadata": {},
     "output_type": "execute_result"
    }
   ],
   "source": [
    "x[:10,:]"
   ]
  },
  {
   "cell_type": "code",
   "execution_count": 17,
   "id": "incident-guess",
   "metadata": {},
   "outputs": [],
   "source": [
    "x[:,0] = (x[:,0] - np.min(x[:,0]))/(np.max(x[:,0])-np.min(x[:,0])) #最值归一化"
   ]
  },
  {
   "cell_type": "code",
   "execution_count": 18,
   "id": "analyzed-thirty",
   "metadata": {},
   "outputs": [],
   "source": [
    "x[:,1] = (x[:,1] - np.min(x[:,1]))/(np.max(x[:,1])-np.min(x[:,1])) #最值归一化"
   ]
  },
  {
   "cell_type": "code",
   "execution_count": 19,
   "id": "eligible-england",
   "metadata": {},
   "outputs": [
    {
     "data": {
      "text/plain": [
       "array([[0.12121212, 0.97979798],\n",
       "       [0.88888889, 0.36363636],\n",
       "       [0.92929293, 0.26262626],\n",
       "       [0.04040404, 0.50505051],\n",
       "       [0.85858586, 0.28282828],\n",
       "       [0.14141414, 0.8989899 ],\n",
       "       [0.49494949, 0.74747475],\n",
       "       [0.32323232, 0.5959596 ],\n",
       "       [0.31313131, 0.52525253],\n",
       "       [0.63636364, 0.        ]])"
      ]
     },
     "execution_count": 19,
     "metadata": {},
     "output_type": "execute_result"
    }
   ],
   "source": [
    "x[:10,:]"
   ]
  },
  {
   "cell_type": "code",
   "execution_count": 20,
   "id": "subsequent-zimbabwe",
   "metadata": {},
   "outputs": [
    {
     "data": {
      "image/png": "[encoded data removed]",
      "text/plain": [
       "<Figure size 432x288 with 1 Axes>"
      ]
     },
     "metadata": {
      "needs_background": "light"
     },
     "output_type": "display_data"
    }
   ],
   "source": [
    "plt.scatter(x[:,0],x[:,1])\n",
    "plt.show()"
   ]
  },
  {
   "cell_type": "code",
   "execution_count": 22,
   "id": "confused-administration",
   "metadata": {},
   "outputs": [
    {
     "data": {
      "text/plain": [
       "0.5208080808080807"
      ]
     },
     "execution_count": 22,
     "metadata": {},
     "output_type": "execute_result"
    }
   ],
   "source": [
    "np.mean(x[:,0])"
   ]
  },
  {
   "cell_type": "code",
   "execution_count": 24,
   "id": "systematic-significance",
   "metadata": {},
   "outputs": [
    {
     "data": {
      "text/plain": [
       "0.3203862071030324"
      ]
     },
     "execution_count": 24,
     "metadata": {},
     "output_type": "execute_result"
    }
   ],
   "source": [
    "np.std(x[:,0])"
   ]
  },
  {
   "cell_type": "code",
   "execution_count": 25,
   "id": "controversial-project",
   "metadata": {},
   "outputs": [
    {
     "data": {
      "text/plain": [
       "0.510909090909091"
      ]
     },
     "execution_count": 25,
     "metadata": {},
     "output_type": "execute_result"
    }
   ],
   "source": [
    "np.mean(x[:,1])"
   ]
  },
  {
   "cell_type": "code",
   "execution_count": 26,
   "id": "standard-tissue",
   "metadata": {},
   "outputs": [
    {
     "data": {
      "text/plain": [
       "0.3076290113291758"
      ]
     },
     "execution_count": 26,
     "metadata": {},
     "output_type": "execute_result"
    }
   ],
   "source": [
    "np.std(x[:,1])"
   ]
  },
  {
   "cell_type": "markdown",
   "id": "wired-modern",
   "metadata": {},
   "source": [
    "### 均值方差归一化"
   ]
  },
  {
   "cell_type": "code",
   "execution_count": 36,
   "id": "confused-essence",
   "metadata": {},
   "outputs": [],
   "source": [
    "X2 = np.random.randint(0,100,(50,2))"
   ]
  },
  {
   "cell_type": "code",
   "execution_count": 37,
   "id": "registered-renewal",
   "metadata": {},
   "outputs": [
    {
     "data": {
      "text/plain": [
       "array([[89, 99],\n",
       "       [99, 51],\n",
       "       [55, 43],\n",
       "       [48, 20],\n",
       "       [37, 88],\n",
       "       [34, 88],\n",
       "       [65, 12],\n",
       "       [38, 40],\n",
       "       [11, 18],\n",
       "       [53, 20]])"
      ]
     },
     "execution_count": 37,
     "metadata": {},
     "output_type": "execute_result"
    }
   ],
   "source": [
    "X2[:10,:]"
   ]
  },
  {
   "cell_type": "code",
   "execution_count": 38,
   "id": "sustainable-appendix",
   "metadata": {},
   "outputs": [],
   "source": [
    "X2 = np.array(X2,dtype = float)"
   ]
  },
  {
   "cell_type": "code",
   "execution_count": 39,
   "id": "periodic-miller",
   "metadata": {},
   "outputs": [],
   "source": [
    "X2[:,0] = (X2[:,0] - np.mean(X2[:,0]))/np.std(X2[:,0])"
   ]
  },
  {
   "cell_type": "code",
   "execution_count": 40,
   "id": "painted-album",
   "metadata": {},
   "outputs": [],
   "source": [
    "X2[:,1] = (X2[:,1] - np.mean(X2[:,1]))/np.std(X2[:,1])"
   ]
  },
  {
   "cell_type": "code",
   "execution_count": 41,
   "id": "single-affiliation",
   "metadata": {},
   "outputs": [
    {
     "data": {
      "image/png": "[encoded data removed]",
      "text/plain": [
       "<Figure size 432x288 with 1 Axes>"
      ]
     },
     "metadata": {
      "needs_background": "light"
     },
     "output_type": "display_data"
    }
   ],
   "source": [
    "plt.scatter(X2[:,0],X2[:,1])\n",
    "plt.show()"
   ]
  },
  {
   "cell_type": "code",
   "execution_count": 42,
   "id": "personalized-functionality",
   "metadata": {},
   "outputs": [
    {
     "data": {
      "text/plain": [
       "7.993605777301127e-17"
      ]
     },
     "execution_count": 42,
     "metadata": {},
     "output_type": "execute_result"
    }
   ],
   "source": [
    "np.mean(X2[:,0])"
   ]
  },
  {
   "cell_type": "code",
   "execution_count": 43,
   "id": "ambient-savannah",
   "metadata": {},
   "outputs": [
    {
     "data": {
      "text/plain": [
       "0.9999999999999999"
      ]
     },
     "execution_count": 43,
     "metadata": {},
     "output_type": "execute_result"
    }
   ],
   "source": [
    "np.std(X2[:,0])"
   ]
  }
 ],
 "metadata": {
  "kernelspec": {
   "display_name": "Python 3",
   "language": "python",
   "name": "python3"
  },
  "language_info": {
   "codemirror_mode": {
    "name": "ipython",
    "version": 3
   },
   "file_extension": ".py",
   "mimetype": "text/x-python",
   "name": "python",
   "nbconvert_exporter": "python",
   "pygments_lexer": "ipython3",
   "version": "3.8.8"
  }
 },
 "nbformat": 4,
 "nbformat_minor": 5
}
