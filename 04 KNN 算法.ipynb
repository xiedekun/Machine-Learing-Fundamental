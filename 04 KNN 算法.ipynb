{
 "cells": [
  {
   "cell_type": "code",
   "execution_count": 4,
   "id": "moved-approach",
   "metadata": {},
   "outputs": [],
   "source": [
    "import numpy as np\n",
    "import matplotlib.pyplot as plt"
   ]
  },
  {
   "cell_type": "code",
   "execution_count": 5,
   "id": "surprising-testimony",
   "metadata": {},
   "outputs": [],
   "source": [
    "np.random.seed(1)\n",
    "raw_data_x = np.random.random((10,2))\n",
    "raw_data_y = [0,0,0,0,0,1,1,1,1,1]"
   ]
  },
  {
   "cell_type": "code",
   "execution_count": 6,
   "id": "extreme-latvia",
   "metadata": {},
   "outputs": [],
   "source": [
    "X_train = raw_data_x\n",
    "y_train = np.array(raw_data_y)"
   ]
  },
  {
   "cell_type": "code",
   "execution_count": 7,
   "id": "crazy-punch",
   "metadata": {},
   "outputs": [
    {
     "data": {
      "text/plain": [
       "array([0, 0, 0, 0, 0, 1, 1, 1, 1, 1])"
      ]
     },
     "execution_count": 7,
     "metadata": {},
     "output_type": "execute_result"
    }
   ],
   "source": [
    "y_train"
   ]
  },
  {
   "cell_type": "code",
   "execution_count": 8,
   "id": "universal-behavior",
   "metadata": {},
   "outputs": [
    {
     "data": {
      "text/plain": [
       "array([[4.17022005e-01, 7.20324493e-01],\n",
       "       [1.14374817e-04, 3.02332573e-01],\n",
       "       [1.46755891e-01, 9.23385948e-02],\n",
       "       [1.86260211e-01, 3.45560727e-01],\n",
       "       [3.96767474e-01, 5.38816734e-01],\n",
       "       [4.19194514e-01, 6.85219500e-01],\n",
       "       [2.04452250e-01, 8.78117436e-01],\n",
       "       [2.73875932e-02, 6.70467510e-01],\n",
       "       [4.17304802e-01, 5.58689828e-01],\n",
       "       [1.40386939e-01, 1.98101489e-01]])"
      ]
     },
     "execution_count": 8,
     "metadata": {},
     "output_type": "execute_result"
    }
   ],
   "source": [
    "X_train"
   ]
  },
  {
   "cell_type": "code",
   "execution_count": 10,
   "id": "progressive-merit",
   "metadata": {},
   "outputs": [
    {
     "data": {
      "image/png": "[encoded data removed]",
      "text/plain": [
       "<Figure size 432x288 with 1 Axes>"
      ]
     },
     "metadata": {
      "needs_background": "light"
     },
     "output_type": "display_data"
    }
   ],
   "source": [
    "plt.scatter(X_train[y_train ==0,0],X_train[y_train ==0,1],color = 'g')\n",
    "plt.scatter(X_train[y_train ==1,0],X_train[y_train ==1,1],color = 'r')\n",
    "plt.scatter(0.2,0.4,color = 'b')\n",
    "plt.show()"
   ]
  },
  {
   "cell_type": "code",
   "execution_count": 14,
   "id": "inner-freight",
   "metadata": {},
   "outputs": [],
   "source": [
    "x = np.array([0.2,0.4])"
   ]
  },
  {
   "cell_type": "markdown",
   "id": "subjective-broadcast",
   "metadata": {},
   "source": [
    "### KNN"
   ]
  },
  {
   "cell_type": "code",
   "execution_count": 15,
   "id": "convertible-sweet",
   "metadata": {},
   "outputs": [
    {
     "data": {
      "text/plain": [
       "[0.3869190246344824,\n",
       " 0.2224706486783723,\n",
       " 0.31223464803176026,\n",
       " 0.05614638217612814,\n",
       " 0.24080598944892567,\n",
       " 0.3597171090608192,\n",
       " 0.4781381657102072,\n",
       " 0.32085466654563205,\n",
       " 0.2690796142110327,\n",
       " 0.21051538138528444]"
      ]
     },
     "execution_count": 15,
     "metadata": {},
     "output_type": "execute_result"
    }
   ],
   "source": [
    "from math import sqrt\n",
    "distances = []\n",
    "for x_train in X_train:\n",
    "    d = sqrt(np.sum((x_train - x)**2))\n",
    "    distances.append(d)\n",
    "distances"
   ]
  },
  {
   "cell_type": "code",
   "execution_count": 16,
   "id": "constant-wireless",
   "metadata": {},
   "outputs": [
    {
     "data": {
      "text/plain": [
       "[0.3869190246344824,\n",
       " 0.2224706486783723,\n",
       " 0.31223464803176026,\n",
       " 0.05614638217612814,\n",
       " 0.24080598944892567,\n",
       " 0.3597171090608192,\n",
       " 0.4781381657102072,\n",
       " 0.32085466654563205,\n",
       " 0.2690796142110327,\n",
       " 0.21051538138528444]"
      ]
     },
     "execution_count": 16,
     "metadata": {},
     "output_type": "execute_result"
    }
   ],
   "source": [
    "from math import sqrt\n",
    "distances = [sqrt(np.sum((x_train - x)**2)) for x_train in X_train]\n",
    "distances"
   ]
  },
  {
   "cell_type": "code",
   "execution_count": 17,
   "id": "stainless-masters",
   "metadata": {},
   "outputs": [],
   "source": [
    "nearest = np.argsort(distances)"
   ]
  },
  {
   "cell_type": "code",
   "execution_count": 18,
   "id": "fifty-resource",
   "metadata": {},
   "outputs": [],
   "source": [
    "k = 6"
   ]
  },
  {
   "cell_type": "code",
   "execution_count": 19,
   "id": "following-munich",
   "metadata": {},
   "outputs": [
    {
     "data": {
      "text/plain": [
       "[0, 1, 0, 0, 1, 0]"
      ]
     },
     "execution_count": 19,
     "metadata": {},
     "output_type": "execute_result"
    }
   ],
   "source": [
    "topk_y = [y_train[i] for i in nearest[:k]]\n",
    "topk_y"
   ]
  },
  {
   "cell_type": "code",
   "execution_count": 20,
   "id": "treated-honey",
   "metadata": {},
   "outputs": [],
   "source": [
    "from collections import Counter"
   ]
  },
  {
   "cell_type": "code",
   "execution_count": 21,
   "id": "worldwide-prototype",
   "metadata": {},
   "outputs": [
    {
     "data": {
      "text/plain": [
       "Counter({0: 4, 1: 2})"
      ]
     },
     "execution_count": 21,
     "metadata": {},
     "output_type": "execute_result"
    }
   ],
   "source": [
    "Counter(topk_y)"
   ]
  },
  {
   "cell_type": "code",
   "execution_count": 22,
   "id": "auburn-preview",
   "metadata": {},
   "outputs": [],
   "source": [
    "votes = Counter(topk_y)"
   ]
  },
  {
   "cell_type": "code",
   "execution_count": 23,
   "id": "specific-adolescent",
   "metadata": {},
   "outputs": [
    {
     "data": {
      "text/plain": [
       "[(0, 4)]"
      ]
     },
     "execution_count": 23,
     "metadata": {},
     "output_type": "execute_result"
    }
   ],
   "source": [
    "votes.most_common(1)"
   ]
  },
  {
   "cell_type": "code",
   "execution_count": 24,
   "id": "atlantic-interpretation",
   "metadata": {},
   "outputs": [
    {
     "data": {
      "text/plain": [
       "0"
      ]
     },
     "execution_count": 24,
     "metadata": {},
     "output_type": "execute_result"
    }
   ],
   "source": [
    "votes.most_common(1)[0][0]"
   ]
  },
  {
   "cell_type": "code",
   "execution_count": 25,
   "id": "attended-baghdad",
   "metadata": {},
   "outputs": [
    {
     "data": {
      "text/plain": [
       "0"
      ]
     },
     "execution_count": 25,
     "metadata": {},
     "output_type": "execute_result"
    }
   ],
   "source": [
    "predict_y =votes.most_common(1)[0][0]\n",
    "predict_y"
   ]
  },
  {
   "cell_type": "code",
   "execution_count": 26,
   "id": "sharp-citizen",
   "metadata": {},
   "outputs": [],
   "source": [
    "%run KNN\\KNN.py"
   ]
  },
  {
   "cell_type": "code",
   "execution_count": 30,
   "id": "atomic-massachusetts",
   "metadata": {},
   "outputs": [
    {
     "data": {
      "text/plain": [
       "0"
      ]
     },
     "execution_count": 30,
     "metadata": {},
     "output_type": "execute_result"
    }
   ],
   "source": [
    "predict_y = kNN_classify(6,X_train,y_train,x)\n",
    "predict_y"
   ]
  },
  {
   "cell_type": "markdown",
   "id": "confused-blast",
   "metadata": {},
   "source": [
    "## scikit-learn中的KNN"
   ]
  },
  {
   "cell_type": "code",
   "execution_count": 31,
   "id": "warming-modem",
   "metadata": {},
   "outputs": [],
   "source": [
    "from sklearn.neighbors import KNeighborsClassifier"
   ]
  },
  {
   "cell_type": "code",
   "execution_count": 32,
   "id": "convinced-worker",
   "metadata": {},
   "outputs": [],
   "source": [
    "kNN_classifyer = KNeighborsClassifier(n_neighbors = 6)"
   ]
  },
  {
   "cell_type": "code",
   "execution_count": 33,
   "id": "faced-lender",
   "metadata": {},
   "outputs": [
    {
     "data": {
      "text/plain": [
       "KNeighborsClassifier(n_neighbors=6)"
      ]
     },
     "execution_count": 33,
     "metadata": {},
     "output_type": "execute_result"
    }
   ],
   "source": [
    "kNN_classifyer.fit(X_train,y_train)"
   ]
  },
  {
   "cell_type": "code",
   "execution_count": 34,
   "id": "accredited-constraint",
   "metadata": {},
   "outputs": [
    {
     "data": {
      "text/plain": [
       "array([0])"
      ]
     },
     "execution_count": 34,
     "metadata": {},
     "output_type": "execute_result"
    }
   ],
   "source": [
    "kNN_classifyer.predict(x.reshape(1,-1))"
   ]
  },
  {
   "cell_type": "markdown",
   "id": "transsexual-walnut",
   "metadata": {},
   "source": [
    "## 重新整理"
   ]
  },
  {
   "cell_type": "code",
   "execution_count": 41,
   "id": "confused-memorabilia",
   "metadata": {},
   "outputs": [],
   "source": [
    "%run ML\\KNN_sklearn_version.py"
   ]
  },
  {
   "cell_type": "code",
   "execution_count": 36,
   "id": "conceptual-purpose",
   "metadata": {},
   "outputs": [],
   "source": [
    "knn = KNNClassifier(k = 6)"
   ]
  },
  {
   "cell_type": "code",
   "execution_count": 37,
   "id": "coupled-bishop",
   "metadata": {},
   "outputs": [
    {
     "data": {
      "text/plain": [
       "KNN(k=6)"
      ]
     },
     "execution_count": 37,
     "metadata": {},
     "output_type": "execute_result"
    }
   ],
   "source": [
    "knn.fit(X_train,y_train)"
   ]
  },
  {
   "cell_type": "code",
   "execution_count": 38,
   "id": "opposed-kingdom",
   "metadata": {},
   "outputs": [],
   "source": [
    "y_predict = knn.predict(x.reshape(1,-1))"
   ]
  },
  {
   "cell_type": "code",
   "execution_count": 39,
   "id": "labeled-classification",
   "metadata": {},
   "outputs": [
    {
     "data": {
      "text/plain": [
       "array([0])"
      ]
     },
     "execution_count": 39,
     "metadata": {},
     "output_type": "execute_result"
    }
   ],
   "source": [
    "y_predict"
   ]
  },
  {
   "cell_type": "code",
   "execution_count": 40,
   "id": "tough-tonight",
   "metadata": {},
   "outputs": [
    {
     "data": {
      "text/plain": [
       "0"
      ]
     },
     "execution_count": 40,
     "metadata": {},
     "output_type": "execute_result"
    }
   ],
   "source": [
    "y_predict[0]"
   ]
  }
 ],
 "metadata": {
  "kernelspec": {
   "display_name": "Python 3",
   "language": "python",
   "name": "python3"
  },
  "language_info": {
   "codemirror_mode": {
    "name": "ipython",
    "version": 3
   },
   "file_extension": ".py",
   "mimetype": "text/x-python",
   "name": "python",
   "nbconvert_exporter": "python",
   "pygments_lexer": "ipython3",
   "version": "3.8.8"
  }
 },
 "nbformat": 4,
 "nbformat_minor": 5
}
